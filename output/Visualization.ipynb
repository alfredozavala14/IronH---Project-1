{
 "cells": [
  {
   "cell_type": "markdown",
   "metadata": {},
   "source": [
    "# Data visualization"
   ]
  },
  {
   "cell_type": "markdown",
   "metadata": {},
   "source": [
    "This notebook is used to test hypotheses by visualizing the data that was treated in the \"Data-cleaning\" notebook"
   ]
  },
  {
   "cell_type": "markdown",
   "metadata": {},
   "source": [
    "## Table of contents\n",
    "- Summary of hypothesis\n",
    "- Import dataset and required libraries\n",
    "- Test hypotheses through visualization\n",
    "- Conclusions "
   ]
  },
  {
   "cell_type": "markdown",
   "metadata": {},
   "source": [
    "## Summary of hypotheses"
   ]
  },
  {
   "cell_type": "markdown",
   "metadata": {},
   "source": [
    "With this dataset, I would like to test three hypotheses. First, I hypothesize that the number of attacks have gone down throughout the years. Second, I hypothesize that the type of attack will be correlated with the sex of the victim. Finally, the activity that the victim was doing is correlated with the fatality of the attack."
   ]
  },
  {
   "cell_type": "markdown",
   "metadata": {},
   "source": [
    "## Import dataset and required libraries"
   ]
  },
  {
   "cell_type": "code",
   "execution_count": 1,
   "metadata": {},
   "outputs": [],
   "source": [
    "import pandas as pd\n",
    "import numpy as np\n",
    "import matplotlib.pyplot as plt\n",
    "import seaborn as sns"
   ]
  },
  {
   "cell_type": "code",
   "execution_count": 2,
   "metadata": {},
   "outputs": [],
   "source": [
    "# importing the data from the \"Data-cleaning\" notebook\n",
    "\n",
    "data = pd.read_csv(\"../data/clean-shark-data.csv\")"
   ]
  },
  {
   "cell_type": "markdown",
   "metadata": {},
   "source": [
    "## Test hypotheses through visualization"
   ]
  },
  {
   "cell_type": "code",
   "execution_count": 3,
   "metadata": {},
   "outputs": [
    {
     "data": {
      "text/html": [
       "<div>\n",
       "<style scoped>\n",
       "    .dataframe tbody tr th:only-of-type {\n",
       "        vertical-align: middle;\n",
       "    }\n",
       "\n",
       "    .dataframe tbody tr th {\n",
       "        vertical-align: top;\n",
       "    }\n",
       "\n",
       "    .dataframe thead th {\n",
       "        text-align: right;\n",
       "    }\n",
       "</style>\n",
       "<table border=\"1\" class=\"dataframe\">\n",
       "  <thead>\n",
       "    <tr style=\"text-align: right;\">\n",
       "      <th></th>\n",
       "      <th>Unnamed: 0</th>\n",
       "      <th>date</th>\n",
       "      <th>year</th>\n",
       "      <th>type</th>\n",
       "      <th>country</th>\n",
       "      <th>area</th>\n",
       "      <th>location</th>\n",
       "      <th>activity</th>\n",
       "      <th>name</th>\n",
       "      <th>sex</th>\n",
       "      <th>age</th>\n",
       "      <th>injury</th>\n",
       "      <th>fatal_(y-n)</th>\n",
       "      <th>time</th>\n",
       "      <th>species</th>\n",
       "      <th>investigator_or_source</th>\n",
       "    </tr>\n",
       "  </thead>\n",
       "  <tbody>\n",
       "    <tr>\n",
       "      <th>0</th>\n",
       "      <td>0</td>\n",
       "      <td>25-Jun-2018</td>\n",
       "      <td>2018</td>\n",
       "      <td>Boating</td>\n",
       "      <td>Usa</td>\n",
       "      <td>California</td>\n",
       "      <td>Oceanside, San Diego County</td>\n",
       "      <td>Paddling</td>\n",
       "      <td>Julie Wolfe</td>\n",
       "      <td>F</td>\n",
       "      <td>57</td>\n",
       "      <td>No injury to occupant, outrigger canoe and pad...</td>\n",
       "      <td>N</td>\n",
       "      <td>18h00</td>\n",
       "      <td>White shark</td>\n",
       "      <td>R. Collier, GSAF</td>\n",
       "    </tr>\n",
       "    <tr>\n",
       "      <th>1</th>\n",
       "      <td>1</td>\n",
       "      <td>18-Jun-2018</td>\n",
       "      <td>2018</td>\n",
       "      <td>Unprovoked</td>\n",
       "      <td>Usa</td>\n",
       "      <td>Georgia</td>\n",
       "      <td>St. Simon Island, Glynn County</td>\n",
       "      <td>Wading</td>\n",
       "      <td>Adyson McNeely</td>\n",
       "      <td>F</td>\n",
       "      <td>11</td>\n",
       "      <td>Minor injury to left thigh</td>\n",
       "      <td>N</td>\n",
       "      <td>14h00  -15h00</td>\n",
       "      <td>NaN</td>\n",
       "      <td>K.McMurray, TrackingSharks.com</td>\n",
       "    </tr>\n",
       "    <tr>\n",
       "      <th>2</th>\n",
       "      <td>2</td>\n",
       "      <td>09-Jun-2018</td>\n",
       "      <td>2018</td>\n",
       "      <td>Invalid</td>\n",
       "      <td>Usa</td>\n",
       "      <td>Hawaii</td>\n",
       "      <td>Habush, Oahu</td>\n",
       "      <td>Surfing</td>\n",
       "      <td>John Denges</td>\n",
       "      <td>M</td>\n",
       "      <td>48</td>\n",
       "      <td>Injury to left lower leg from surfboard skeg</td>\n",
       "      <td>N</td>\n",
       "      <td>07h45</td>\n",
       "      <td>NaN</td>\n",
       "      <td>K.McMurray, TrackingSharks.com</td>\n",
       "    </tr>\n",
       "    <tr>\n",
       "      <th>3</th>\n",
       "      <td>3</td>\n",
       "      <td>08-Jun-2018</td>\n",
       "      <td>2018</td>\n",
       "      <td>Unprovoked</td>\n",
       "      <td>Australia</td>\n",
       "      <td>New South Wales</td>\n",
       "      <td>Arrawarra Headland</td>\n",
       "      <td>Surfing</td>\n",
       "      <td>male</td>\n",
       "      <td>M</td>\n",
       "      <td>0</td>\n",
       "      <td>Minor injury to lower leg</td>\n",
       "      <td>N</td>\n",
       "      <td>NaN</td>\n",
       "      <td>2 m shark</td>\n",
       "      <td>B. Myatt, GSAF</td>\n",
       "    </tr>\n",
       "    <tr>\n",
       "      <th>4</th>\n",
       "      <td>4</td>\n",
       "      <td>04-Jun-2018</td>\n",
       "      <td>2018</td>\n",
       "      <td>Provoked</td>\n",
       "      <td>Mexico</td>\n",
       "      <td>Colima</td>\n",
       "      <td>La Ticla</td>\n",
       "      <td>Free diving</td>\n",
       "      <td>Gustavo Ramos</td>\n",
       "      <td>M</td>\n",
       "      <td>0</td>\n",
       "      <td>Lacerations to leg &amp; hand shark PROVOKED INCIDENT</td>\n",
       "      <td>N</td>\n",
       "      <td>NaN</td>\n",
       "      <td>Tiger shark, 3m</td>\n",
       "      <td>A .Kipper</td>\n",
       "    </tr>\n",
       "  </tbody>\n",
       "</table>\n",
       "</div>"
      ],
      "text/plain": [
       "   Unnamed: 0         date  year        type    country             area  \\\n",
       "0           0  25-Jun-2018  2018     Boating        Usa       California   \n",
       "1           1  18-Jun-2018  2018  Unprovoked        Usa          Georgia   \n",
       "2           2  09-Jun-2018  2018     Invalid        Usa           Hawaii   \n",
       "3           3  08-Jun-2018  2018  Unprovoked  Australia  New South Wales   \n",
       "4           4  04-Jun-2018  2018    Provoked     Mexico           Colima   \n",
       "\n",
       "                         location     activity             name sex  age  \\\n",
       "0     Oceanside, San Diego County     Paddling      Julie Wolfe   F   57   \n",
       "1  St. Simon Island, Glynn County       Wading  Adyson McNeely    F   11   \n",
       "2                    Habush, Oahu      Surfing      John Denges   M   48   \n",
       "3              Arrawarra Headland      Surfing             male   M    0   \n",
       "4                        La Ticla  Free diving   Gustavo Ramos    M    0   \n",
       "\n",
       "                                              injury fatal_(y-n)  \\\n",
       "0  No injury to occupant, outrigger canoe and pad...           N   \n",
       "1                         Minor injury to left thigh           N   \n",
       "2       Injury to left lower leg from surfboard skeg           N   \n",
       "3                          Minor injury to lower leg           N   \n",
       "4  Lacerations to leg & hand shark PROVOKED INCIDENT           N   \n",
       "\n",
       "            time          species          investigator_or_source  \n",
       "0          18h00      White shark                R. Collier, GSAF  \n",
       "1  14h00  -15h00              NaN  K.McMurray, TrackingSharks.com  \n",
       "2          07h45              NaN  K.McMurray, TrackingSharks.com  \n",
       "3            NaN        2 m shark                  B. Myatt, GSAF  \n",
       "4            NaN  Tiger shark, 3m                       A .Kipper  "
      ]
     },
     "execution_count": 3,
     "metadata": {},
     "output_type": "execute_result"
    }
   ],
   "source": [
    "data.head()"
   ]
  },
  {
   "cell_type": "markdown",
   "metadata": {},
   "source": [
    "First I will set a standard style and size for the graphs"
   ]
  },
  {
   "cell_type": "code",
   "execution_count": 4,
   "metadata": {},
   "outputs": [
    {
     "data": {
      "image/png": "[encoded data removed]",
      "text/plain": [
       "<Figure size 960x480 with 1 Axes>"
      ]
     },
     "metadata": {},
     "output_type": "display_data"
    }
   ],
   "source": [
    "plt.style.use('classic')\n",
    "fig, ax = plt.subplots(figsize=(12,6))"
   ]
  },
  {
   "cell_type": "markdown",
   "metadata": {},
   "source": [
    "### First hyptohesis: decrease in number of recorded attacks over the years"
   ]
  },
  {
   "cell_type": "markdown",
   "metadata": {},
   "source": [
    "Now I will test the hypothesis that shark attacks have gone down over the years. I will stick to data from 1900, asi data before that was probably not recorded very thoroughly. Also, while data on 2018 should be good, it seems like data has only been uploaded for attacks before jun-25"
   ]
  },
  {
   "cell_type": "code",
   "execution_count": 5,
   "metadata": {},
   "outputs": [
    {
     "data": {
      "text/plain": [
       "1901      9\n",
       "1902     15\n",
       "1903     10\n",
       "1904     14\n",
       "1905     18\n",
       "       ... \n",
       "2013    122\n",
       "2014    127\n",
       "2015    143\n",
       "2016    130\n",
       "2017    136\n",
       "Name: year, Length: 117, dtype: int64"
      ]
     },
     "execution_count": 5,
     "metadata": {},
     "output_type": "execute_result"
    }
   ],
   "source": [
    "# Group number of attacks each year, only counting those afgter 1900\n",
    "\n",
    "annual_attacks = pd.Series(data.year.value_counts().sort_index())\n",
    "annual_attacks = annual_attacks[(annual_attacks.index.values > 1900) & (annual_attacks.index.values < 2018)]\n",
    "annual_attacks"
   ]
  },
  {
   "cell_type": "code",
   "execution_count": 6,
   "metadata": {},
   "outputs": [
    {
     "data": {
      "image/png": "[encoded data removed]",
      "text/plain": [
       "<Figure size 640x480 with 1 Axes>"
      ]
     },
     "metadata": {},
     "output_type": "display_data"
    }
   ],
   "source": [
    "annual_attacks.plot(kind='line',x='annual_attacks.index.value',y='annual attacks')\n",
    "plt.show()"
   ]
  },
  {
   "cell_type": "markdown",
   "metadata": {},
   "source": [
    "I hypothesized that recorded shark attacks would have fallen over the years as the global population growth (making sharks look for less populated areas), the overfishing of sharks and the higher knowledge and control over sharks on areas where attacks are common would have reduced the chances that a shark would attack a human. However, it seems that recorded shark attacks have increased greatly in the 20th century. This could be because the recording methods are better, making data more reliable, but there could be other reasons, like those behind the spike in the 1960s"
   ]
  },
  {
   "cell_type": "markdown",
   "metadata": {},
   "source": [
    "### Second hyptohesis: attack type correlated with the sex of the victim"
   ]
  },
  {
   "cell_type": "markdown",
   "metadata": {},
   "source": [
    "To test this hypothesis, it is important to have in mind that around 73% of recorded attacks had type 'provoked', so it is likely that this analysis will not offer very valuable insights. Before analyzing the data, I was hoping for a larger variety in attack types that could had offered more insight potential."
   ]
  },
  {
   "cell_type": "code",
   "execution_count": 7,
   "metadata": {},
   "outputs": [],
   "source": [
    "# create a series for male and female attacks based on type \n",
    "\n",
    "male_attacks_by_type = pd.Series(data.groupby(\"type\")[\"sex\"].apply(lambda x: x[x == 'M'].count()), name = \"male_attacks\")\n",
    "female_attacks_by_type = pd.Series(data.groupby(\"type\")[\"sex\"].apply(lambda x: x[x == 'F'].count()), name = \"female_attacks\")"
   ]
  },
  {
   "cell_type": "code",
   "execution_count": 8,
   "metadata": {},
   "outputs": [
    {
     "data": {
      "text/html": [
       "<div>\n",
       "<style scoped>\n",
       "    .dataframe tbody tr th:only-of-type {\n",
       "        vertical-align: middle;\n",
       "    }\n",
       "\n",
       "    .dataframe tbody tr th {\n",
       "        vertical-align: top;\n",
       "    }\n",
       "\n",
       "    .dataframe thead th {\n",
       "        text-align: right;\n",
       "    }\n",
       "</style>\n",
       "<table border=\"1\" class=\"dataframe\">\n",
       "  <thead>\n",
       "    <tr style=\"text-align: right;\">\n",
       "      <th></th>\n",
       "      <th>male_attacks</th>\n",
       "      <th>female_attacks</th>\n",
       "    </tr>\n",
       "    <tr>\n",
       "      <th>type</th>\n",
       "      <th></th>\n",
       "      <th></th>\n",
       "    </tr>\n",
       "  </thead>\n",
       "  <tbody>\n",
       "    <tr>\n",
       "      <th>Boating</th>\n",
       "      <td>124</td>\n",
       "      <td>9</td>\n",
       "    </tr>\n",
       "    <tr>\n",
       "      <th>Invalid</th>\n",
       "      <td>411</td>\n",
       "      <td>62</td>\n",
       "    </tr>\n",
       "    <tr>\n",
       "      <th>Provoked</th>\n",
       "      <td>494</td>\n",
       "      <td>22</td>\n",
       "    </tr>\n",
       "    <tr>\n",
       "      <th>Questionable</th>\n",
       "      <td>2</td>\n",
       "      <td>0</td>\n",
       "    </tr>\n",
       "    <tr>\n",
       "      <th>Sea Disaster</th>\n",
       "      <td>164</td>\n",
       "      <td>9</td>\n",
       "    </tr>\n",
       "    <tr>\n",
       "      <th>Unprovoked</th>\n",
       "      <td>3895</td>\n",
       "      <td>535</td>\n",
       "    </tr>\n",
       "  </tbody>\n",
       "</table>\n",
       "</div>"
      ],
      "text/plain": [
       "              male_attacks  female_attacks\n",
       "type                                      \n",
       "Boating                124               9\n",
       "Invalid                411              62\n",
       "Provoked               494              22\n",
       "Questionable             2               0\n",
       "Sea Disaster           164               9\n",
       "Unprovoked            3895             535"
      ]
     },
     "execution_count": 8,
     "metadata": {},
     "output_type": "execute_result"
    }
   ],
   "source": [
    "# combine series in one sub-DF\n",
    "\n",
    "subdf1 = pd.concat([male_attacks_by_type, female_attacks_by_type], axis = 1)\n",
    "subdf1"
   ]
  },
  {
   "cell_type": "code",
   "execution_count": 9,
   "metadata": {},
   "outputs": [],
   "source": [
    "# convert to percentages to make the data comparable\n",
    "\n",
    "subdf1['m_att_perc'] = subdf1['male_attacks'].apply(lambda x: x/subdf1['male_attacks'].sum())\n",
    "subdf1['f_att_perc'] = subdf1['female_attacks'].apply(lambda x: x/subdf1['female_attacks'].sum())"
   ]
  },
  {
   "cell_type": "code",
   "execution_count": 10,
   "metadata": {},
   "outputs": [
    {
     "data": {
      "text/html": [
       "<div>\n",
       "<style scoped>\n",
       "    .dataframe tbody tr th:only-of-type {\n",
       "        vertical-align: middle;\n",
       "    }\n",
       "\n",
       "    .dataframe tbody tr th {\n",
       "        vertical-align: top;\n",
       "    }\n",
       "\n",
       "    .dataframe thead th {\n",
       "        text-align: right;\n",
       "    }\n",
       "</style>\n",
       "<table border=\"1\" class=\"dataframe\">\n",
       "  <thead>\n",
       "    <tr style=\"text-align: right;\">\n",
       "      <th></th>\n",
       "      <th>male_attacks</th>\n",
       "      <th>female_attacks</th>\n",
       "      <th>m_att_perc</th>\n",
       "      <th>f_att_perc</th>\n",
       "    </tr>\n",
       "    <tr>\n",
       "      <th>type</th>\n",
       "      <th></th>\n",
       "      <th></th>\n",
       "      <th></th>\n",
       "      <th></th>\n",
       "    </tr>\n",
       "  </thead>\n",
       "  <tbody>\n",
       "    <tr>\n",
       "      <th>Boating</th>\n",
       "      <td>124</td>\n",
       "      <td>9</td>\n",
       "      <td>0.024361</td>\n",
       "      <td>0.014129</td>\n",
       "    </tr>\n",
       "    <tr>\n",
       "      <th>Invalid</th>\n",
       "      <td>411</td>\n",
       "      <td>62</td>\n",
       "      <td>0.080747</td>\n",
       "      <td>0.097331</td>\n",
       "    </tr>\n",
       "    <tr>\n",
       "      <th>Provoked</th>\n",
       "      <td>494</td>\n",
       "      <td>22</td>\n",
       "      <td>0.097053</td>\n",
       "      <td>0.034537</td>\n",
       "    </tr>\n",
       "    <tr>\n",
       "      <th>Questionable</th>\n",
       "      <td>2</td>\n",
       "      <td>0</td>\n",
       "      <td>0.000393</td>\n",
       "      <td>0.000000</td>\n",
       "    </tr>\n",
       "    <tr>\n",
       "      <th>Sea Disaster</th>\n",
       "      <td>164</td>\n",
       "      <td>9</td>\n",
       "      <td>0.032220</td>\n",
       "      <td>0.014129</td>\n",
       "    </tr>\n",
       "    <tr>\n",
       "      <th>Unprovoked</th>\n",
       "      <td>3895</td>\n",
       "      <td>535</td>\n",
       "      <td>0.765226</td>\n",
       "      <td>0.839874</td>\n",
       "    </tr>\n",
       "  </tbody>\n",
       "</table>\n",
       "</div>"
      ],
      "text/plain": [
       "              male_attacks  female_attacks  m_att_perc  f_att_perc\n",
       "type                                                              \n",
       "Boating                124               9    0.024361    0.014129\n",
       "Invalid                411              62    0.080747    0.097331\n",
       "Provoked               494              22    0.097053    0.034537\n",
       "Questionable             2               0    0.000393    0.000000\n",
       "Sea Disaster           164               9    0.032220    0.014129\n",
       "Unprovoked            3895             535    0.765226    0.839874"
      ]
     },
     "execution_count": 10,
     "metadata": {},
     "output_type": "execute_result"
    }
   ],
   "source": [
    "subdf1"
   ]
  },
  {
   "cell_type": "code",
   "execution_count": 11,
   "metadata": {},
   "outputs": [
    {
     "data": {
      "image/png": "[encoded data removed]",
      "text/plain": [
       "<Figure size 640x480 with 1 Axes>"
      ]
     },
     "metadata": {},
     "output_type": "display_data"
    }
   ],
   "source": [
    "# Grouped bar chart\n",
    "\n",
    "# Set width for bars\n",
    "width = 0.4\n",
    "\n",
    "# Set labels and label location\n",
    "labels = list(subdf1.index.values)\n",
    "x = np.arange(len(labels))\n",
    "\n",
    "# Plot graph\n",
    "fig, ax = plt.subplots()\n",
    "bar1 = ax.bar(x, subdf1.m_att_perc, width, label='Men')\n",
    "bar2 = ax.bar(x + width, subdf1.f_att_perc, width, label='Women')\n",
    "\n",
    "# Add labels\n",
    "ax.set_ylabel('Percentage of attack types')\n",
    "ax.set_xticks(x + width / 2)\n",
    "ax.set_xticklabels(subdf1.index.values, rotation='vertical')\n",
    "ax.legend(loc='upper left')\n",
    "\n",
    "plt.show()"
   ]
  },
  {
   "cell_type": "markdown",
   "metadata": {},
   "source": [
    "Like commented at the start, the fact that most attacks are unprovoked means the data doesn't offer many valuable insights. However, the data does show that men are more likely to be involved in a provoked attack and women more likely to be involved in an unprovoked attack."
   ]
  },
  {
   "cell_type": "markdown",
   "metadata": {},
   "source": [
    "### Third hyptohesis: activity correlated with fatality"
   ]
  },
  {
   "cell_type": "markdown",
   "metadata": {},
   "source": [
    "It is important to remember that activity had over 1500 unique results, so we will stick with the top 10 activities with most recorded attacks"
   ]
  },
  {
   "cell_type": "code",
   "execution_count": 12,
   "metadata": {},
   "outputs": [
    {
     "data": {
      "text/plain": [
       "Index(['Swimming', 'Surfing', 'Fishing', 'Wading', 'Diving', 'Snorkeling',\n",
       "       'Scuba diving', 'Free diving', 'Body boarding', 'Body surfing'],\n",
       "      dtype='object')"
      ]
     },
     "execution_count": 12,
     "metadata": {},
     "output_type": "execute_result"
    }
   ],
   "source": [
    "# Selecting just top 10 activities\n",
    "\n",
    "top_activities = data.activity.value_counts().head(10)\n",
    "top_activities_index = top_activities.index\n",
    "top_activities_index"
   ]
  },
  {
   "cell_type": "code",
   "execution_count": 13,
   "metadata": {},
   "outputs": [
    {
     "data": {
      "text/plain": [
       "[Text(0, 0, 'Swimming'),\n",
       " Text(1, 0, 'Surfing'),\n",
       " Text(2, 0, 'Fishing'),\n",
       " Text(3, 0, 'Wading'),\n",
       " Text(4, 0, 'Diving'),\n",
       " Text(5, 0, 'Snorkeling'),\n",
       " Text(6, 0, 'Scuba diving'),\n",
       " Text(7, 0, 'Free diving'),\n",
       " Text(8, 0, 'Body boarding'),\n",
       " Text(9, 0, 'Body surfing')]"
      ]
     },
     "execution_count": 13,
     "metadata": {},
     "output_type": "execute_result"
    },
    {
     "data": {
      "image/png": "[encoded data removed]",
      "text/plain": [
       "<Figure size 640x480 with 1 Axes>"
      ]
     },
     "metadata": {},
     "output_type": "display_data"
    }
   ],
   "source": [
    "graph3 = sns.countplot(x=data.activity, order=top_activities_index, hue=data['fatal_(y-n)'])\n",
    "graph3.set_xticklabels(labels=top_activities_index, rotation=45)"
   ]
  },
  {
   "cell_type": "markdown",
   "metadata": {},
   "source": [
    "There seems to be one clear case when attacks are more likely to be fatal, which is when swimming. In all other activitie, the percentage of fatal cases is relatively small"
   ]
  },
  {
   "cell_type": "code",
   "execution_count": null,
   "metadata": {},
   "outputs": [],
   "source": []
  },
  {
   "cell_type": "markdown",
   "metadata": {},
   "source": [
    "## Conclusions"
   ]
  },
  {
   "cell_type": "markdown",
   "metadata": {},
   "source": [
    "From the data analyzed, we can conclude that recorded shark attacks have been increasing over the last century, that most attacls are unprovoked and that swimming is the activity that is most likely to lead to a fatal attack. The lesson is, if in areas where sharks are common, think twice before swimming in the sea as it is the most likely (although still unprobable) way you can end up in a fatal shark attack. "
   ]
  },
  {
   "cell_type": "code",
   "execution_count": null,
   "metadata": {},
   "outputs": [],
   "source": []
  }
 ],
 "metadata": {
  "kernelspec": {
   "display_name": "Python 3",
   "language": "python",
   "name": "python3"
  },
  "language_info": {
   "codemirror_mode": {
    "name": "ipython",
    "version": 3
   },
   "file_extension": ".py",
   "mimetype": "text/x-python",
   "name": "python",
   "nbconvert_exporter": "python",
   "pygments_lexer": "ipython3",
   "version": "3.9.1"
  }
 },
 "nbformat": 4,
 "nbformat_minor": 4
}
